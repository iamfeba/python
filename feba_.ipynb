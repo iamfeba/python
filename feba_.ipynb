{
 "cells": [
  {
   "cell_type": "code",
   "execution_count": 3,
   "id": "194068ed-65b9-4a3b-a044-9ddd946bc61c",
   "metadata": {},
   "outputs": [
    {
     "name": "stdout",
     "output_type": "stream",
     "text": [
      "Welcome to Hand Cricket!\n",
      "\n",
      "Your turn to bat!\n"
     ]
    },
    {
     "name": "stdin",
     "output_type": "stream",
     "text": [
      "Enter your run (1-6):  3\n"
     ]
    },
    {
     "name": "stdout",
     "output_type": "stream",
     "text": [
      "Computer chose: 4\n",
      "Your total runs: 3\n"
     ]
    },
    {
     "name": "stdin",
     "output_type": "stream",
     "text": [
      "Enter your run (1-6):  4\n"
     ]
    },
    {
     "name": "stdout",
     "output_type": "stream",
     "text": [
      "Computer chose: 2\n",
      "Your total runs: 7\n"
     ]
    },
    {
     "name": "stdin",
     "output_type": "stream",
     "text": [
      "Enter your run (1-6):  \n"
     ]
    },
    {
     "name": "stdout",
     "output_type": "stream",
     "text": [
      "Invalid input. Please enter a number between 1 and 6.\n"
     ]
    },
    {
     "name": "stdin",
     "output_type": "stream",
     "text": [
      "Enter your run (1-6):  6\n"
     ]
    },
    {
     "name": "stdout",
     "output_type": "stream",
     "text": [
      "Computer chose: 1\n",
      "Your total runs: 13\n"
     ]
    },
    {
     "name": "stdin",
     "output_type": "stream",
     "text": [
      "Enter your run (1-6):  6\n"
     ]
    },
    {
     "name": "stdout",
     "output_type": "stream",
     "text": [
      "Computer chose: 1\n",
      "Your total runs: 19\n"
     ]
    },
    {
     "name": "stdin",
     "output_type": "stream",
     "text": [
      "Enter your run (1-6):  4\n"
     ]
    },
    {
     "name": "stdout",
     "output_type": "stream",
     "text": [
      "Computer chose: 5\n",
      "Your total runs: 23\n"
     ]
    },
    {
     "name": "stdin",
     "output_type": "stream",
     "text": [
      "Enter your run (1-6):  \n"
     ]
    },
    {
     "name": "stdout",
     "output_type": "stream",
     "text": [
      "Invalid input. Please enter a number between 1 and 6.\n"
     ]
    },
    {
     "name": "stdin",
     "output_type": "stream",
     "text": [
      "Enter your run (1-6):  4\n"
     ]
    },
    {
     "name": "stdout",
     "output_type": "stream",
     "text": [
      "Computer chose: 4\n",
      "You're out!\n",
      "\n",
      "Your total score: 23\n",
      "\n",
      "Computer's turn to bat!\n"
     ]
    },
    {
     "name": "stdin",
     "output_type": "stream",
     "text": [
      "Enter your bowl (1-6):  \n"
     ]
    },
    {
     "name": "stdout",
     "output_type": "stream",
     "text": [
      "Invalid input. Please enter a number between 1 and 6.\n"
     ]
    },
    {
     "name": "stdin",
     "output_type": "stream",
     "text": [
      "Enter your bowl (1-6):  5\n"
     ]
    },
    {
     "name": "stdout",
     "output_type": "stream",
     "text": [
      "Computer chose: 4\n",
      "Computer's total runs: 4\n"
     ]
    },
    {
     "name": "stdin",
     "output_type": "stream",
     "text": [
      "Enter your bowl (1-6):  4\n"
     ]
    },
    {
     "name": "stdout",
     "output_type": "stream",
     "text": [
      "Computer chose: 6\n",
      "Computer's total runs: 10\n"
     ]
    },
    {
     "name": "stdin",
     "output_type": "stream",
     "text": [
      "Enter your bowl (1-6):  4\n"
     ]
    },
    {
     "name": "stdout",
     "output_type": "stream",
     "text": [
      "Computer chose: 4\n",
      "Computer is out!\n",
      "\n",
      "Computer's total score: 10\n",
      "Congratulations! You win!\n"
     ]
    }
   ],
   "source": [
    "\n",
    "import random \n",
    "\n",
    "def player_bats():\n",
    "    total_runs = 0\n",
    "    while True:\n",
    "        try:\n",
    "            player_choice = int(input(\"Enter your run (1-6): \"))\n",
    "            if player_choice < 1 or player_choice > 6:\n",
    "                print(\"Please choose a number between 1 and 6.\")\n",
    "                continue\n",
    "        except ValueError:\n",
    "            print(\"Invalid input. Please enter a number between 1 and 6.\")\n",
    "            continue\n",
    "        \n",
    "        computer_choice = random.randint(1, 6)\n",
    "        print(f\"Computer chose: {computer_choice}\")\n",
    "\n",
    "        if player_choice == computer_choice:\n",
    "            print(\"You're out!\")\n",
    "            break\n",
    "        else:\n",
    "            total_runs += player_choice\n",
    "            print(f\"Your total runs: {total_runs}\")\n",
    "\n",
    "    return total_runs\n",
    "\n",
    "def computer_bats(target):\n",
    "    total_runs = 0\n",
    "    while total_runs < target:\n",
    "        computer_choice = random.randint(1, 6)\n",
    "        try:\n",
    "            player_choice = int(input(\"Enter your bowl (1-6): \"))\n",
    "            if player_choice < 1 or player_choice > 6:\n",
    "                print(\"Please choose a number between 1 and 6.\")\n",
    "                continue\n",
    "        except ValueError:\n",
    "            print(\"Invalid input. Please enter a number between 1 and 6.\")\n",
    "            continue\n",
    "\n",
    "        print(f\"Computer chose: {computer_choice}\")\n",
    "\n",
    "        if player_choice == computer_choice:\n",
    "            print(\"Computer is out!\")\n",
    "            break\n",
    "        else:\n",
    "            total_runs += computer_choice\n",
    "            print(f\"Computer's total runs: {total_runs}\")\n",
    "\n",
    "    return total_runs\n",
    "\n",
    "def play_hand_cricket():\n",
    "    print(\"Welcome to Hand Cricket!\")\n",
    "    \n",
    "    print(\"\\nYour turn to bat!\")\n",
    "    player_score = player_bats()\n",
    "    print(f\"\\nYour total score: {player_score}\")\n",
    "\n",
    "    print(\"\\nComputer's turn to bat!\")\n",
    "    computer_score = computer_bats(player_score)\n",
    "    print(f\"\\nComputer's total score: {computer_score}\")\n",
    "\n",
    "    if player_score > computer_score:\n",
    "        print(\"Congratulations! You win!\")\n",
    "    elif computer_score > player_score:\n",
    "        print(\"Computer wins! Better luck next time.\")\n",
    "    else:\n",
    "        print(\"It's a tie!\")\n",
    "\n",
    "if __name__ == \"__main__\":\n",
    "    play_hand_cricket()"
   ]
  },
  {
   "cell_type": "code",
   "execution_count": null,
   "id": "028d5635-eddf-4f8a-b4f4-8864a500c941",
   "metadata": {},
   "outputs": [],
   "source": []
  },
  {
   "cell_type": "code",
   "execution_count": null,
   "id": "76a77354-e175-4a4b-905e-a92e864268e5",
   "metadata": {},
   "outputs": [],
   "source": []
  }
 ],
 "metadata": {
  "kernelspec": {
   "display_name": "Python 3 (ipykernel)",
   "language": "python",
   "name": "python3"
  },
  "language_info": {
   "codemirror_mode": {
    "name": "ipython",
    "version": 3
   },
   "file_extension": ".py",
   "mimetype": "text/x-python",
   "name": "python",
   "nbconvert_exporter": "python",
   "pygments_lexer": "ipython3",
   "version": "3.11.7"
  }
 },
 "nbformat": 4,
 "nbformat_minor": 5
}
